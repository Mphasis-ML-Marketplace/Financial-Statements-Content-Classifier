{
 "cells": [
  {
   "cell_type": "markdown",
   "metadata": {},
   "source": [
    "## Financial Statements Content Classifier Model Package from AWS Marketplace \n",
    "\n",
    "\n",
    "This solution takes an annual report in a digital pdf format as input, and returns the page numbers of the document that correspond to each of the following categories: Cash Flow, Profit and Loss, and Balance Sheet. The solution utilizes computer vision techniques to identify the pages with tables, as well as text-based classification techniques to determine the relevance of the pages in question. It returns the relevant page numbers quickly, so an individual does not have to go through the complete document to find the specific statements from hundreds of pages in the report .\n",
    "\n",
    "The Financial Statements Content Classifier uses text classification techniques to identify and sort the pages of interest into the general categories of financial statements.\n",
    "\n",
    "This solution can be used in industries like consulting, banking, financial services, insurance, retail, healthcare, pharmaceuticals, manufacturing, airlines, etc to automate processes  like financial spreading, vendor/merchant risk assessment, fundamental analysis etc.\n",
    "\n",
    "This sample notebook shows you how to deploy Mphasis DeepInsights: Financial Statements Content Classifier.\n",
    "\n",
    "\n",
    "\n",
    "#### Pre-requisites:\n",
    "1. **Note**: This notebook contains elements which render correctly in Jupyter interface. Open this notebook from an Amazon SageMaker Notebook Instance or Amazon SageMaker Studio.\n",
    "1. Ensure that IAM role used has **AmazonSageMakerFullAccess**\n",
    "1. To deploy this ML model successfully, ensure that:\n",
    "    1. Either your IAM role has these three permissions and you have authority to make AWS Marketplace subscriptions in the AWS account used: \n",
    "        1. **aws-marketplace:ViewSubscriptions**\n",
    "        1. **aws-marketplace:Unsubscribe**\n",
    "        1. **aws-marketplace:Subscribe**  \n",
    "    2. or your AWS account has a subscription to Mphasis DeepInsights: Financial Statements Content Classifier. If so, skip step: [Subscribe to the model package](#1.-Subscribe-to-the-model-package)\n",
    "\n",
    "#### Contents:\n",
    "1. [Subscribe to the model package](#1.-Subscribe-to-the-model-package)\n",
    "2. [Create an endpoint and perform real-time inference](#2.-Create-an-endpoint-and-perform-real-time-inference)\n",
    "   1. [Create an endpoint](#A.-Create-an-endpoint)\n",
    "   2. [Create input payload](#B.-Create-input-payload)\n",
    "   3. [Perform real-time inference](#C.-Perform-real-time-inference)\n",
    "   4. [Visualize output](#D.-Visualize-output)\n",
    "   5. [Delete the endpoint](#E.-Delete-the-endpoint)\n",
    "3. [Perform batch inference](#3.-Perform-batch-inference) \n",
    "4. [Clean-up](#4.-Clean-up)\n",
    "    1. [Delete the model](#A.-Delete-the-model)\n",
    "    2. [Unsubscribe to the listing (optional)](#B.-Unsubscribe-to-the-listing-(optional))\n",
    "    \n",
    "\n",
    "#### Usage instructions\n",
    "You can run this notebook one cell at a time (By using Shift+Enter for running a cell)."
   ]
  },
  {
   "cell_type": "markdown",
   "metadata": {},
   "source": [
    "### 1. Subscribe to the model package"
   ]
  },
  {
   "cell_type": "markdown",
   "metadata": {},
   "source": [
    "To subscribe to the model package:\n",
    "1. Open the model package listing page **Financial Statements Content Classifier.**\n",
    "1. On the AWS Marketplace listing, click on the **Continue to subscribe** button.\n",
    "1. On the **Subscribe to this software** page, review and click on **\"Accept Offer\"** if you and your organization agrees with EULA, pricing, and support terms. \n",
    "1. Once you click on **Continue to configuration button** and then choose a **region**, you will see a **Product Arn** displayed. This is the model package ARN that you need to specify while creating a deployable model using Boto3. Copy the ARN corresponding to your region and specify the same in the following cell."
   ]
  },
  {
   "cell_type": "code",
   "execution_count": 32,
   "metadata": {},
   "outputs": [],
   "source": [
    "model_package_arn = 'arn:aws:sagemaker:us-east-2:786796469737:model-package/financial-table-classification-v10'"
   ]
  },
  {
   "cell_type": "code",
   "execution_count": 33,
   "metadata": {},
   "outputs": [],
   "source": [
    "import base64\n",
    "import json \n",
    "import uuid\n",
    "from sagemaker import ModelPackage\n",
    "import sagemaker as sage\n",
    "from sagemaker import get_execution_role\n",
    "from sagemaker import ModelPackage\n",
    "#from urllib.parse import urlparse\n",
    "import boto3\n",
    "from IPython.display import Image\n",
    "from PIL import Image as ImageEdit\n",
    "#import urllib.request\n",
    "import numpy as np"
   ]
  },
  {
   "cell_type": "code",
   "execution_count": 34,
   "metadata": {},
   "outputs": [],
   "source": [
    "content_type='application/zip'\n",
    "model_name='ar-classification-model-v10'\n",
    "real_time_inference_instance_type='ml.m5.4xlarge'"
   ]
  },
  {
   "cell_type": "markdown",
   "metadata": {},
   "source": [
    "### 2. Create an endpoint and perform real-time inference"
   ]
  },
  {
   "cell_type": "markdown",
   "metadata": {},
   "source": [
    "If you want to understand how real-time inference with Amazon SageMaker works, see [Documentation](https://docs.aws.amazon.com/sagemaker/latest/dg/how-it-works-hosting.html)."
   ]
  },
  {
   "cell_type": "code",
   "execution_count": 35,
   "metadata": {},
   "outputs": [],
   "source": [
    "from sagemaker import ModelPackage\n",
    "import sagemaker as sage\n",
    "from sagemaker import get_execution_role\n",
    "\n",
    "role = get_execution_role()\n",
    "sagemaker_session = sage.Session()"
   ]
  },
  {
   "cell_type": "markdown",
   "metadata": {},
   "source": [
    "#### A. Create an endpoint"
   ]
  },
  {
   "cell_type": "code",
   "execution_count": 36,
   "metadata": {},
   "outputs": [
    {
     "name": "stdout",
     "output_type": "stream",
     "text": [
      "----!"
     ]
    }
   ],
   "source": [
    "#Define predictor wrapper class\n",
    "def predict_wrapper(endpoint, session):\n",
    "    return sage.predictor.Predictor(endpoint, session,content_type)\n",
    "#create a deployable model from the model package.\n",
    "model = ModelPackage(role=role,\n",
    "                    model_package_arn=model_package_arn,\n",
    "                    sagemaker_session=sagemaker_session,\n",
    "                    predictor_cls=predict_wrapper)\n",
    "\n",
    "#Deploy the model\n",
    "predictor = model.deploy(1, real_time_inference_instance_type, endpoint_name=model_name)"
   ]
  },
  {
   "cell_type": "markdown",
   "metadata": {},
   "source": [
    "Once endpoint has been created, you would be able to perform real-time inference."
   ]
  },
  {
   "cell_type": "markdown",
   "metadata": {},
   "source": [
    "#### B. Create input payload"
   ]
  },
  {
   "cell_type": "markdown",
   "metadata": {},
   "source": [
    "Input.zip\n",
    "\n",
    "\t|--Input\n",
    "    \n",
    "\t\t|--sample_financial_report.zip"
   ]
  },
  {
   "cell_type": "markdown",
   "metadata": {},
   "source": [
    "`file_to_upload.zip`"
   ]
  },
  {
   "cell_type": "code",
   "execution_count": 37,
   "metadata": {},
   "outputs": [],
   "source": [
    "file_name ='Input.zip'\n"
   ]
  },
  {
   "cell_type": "code",
   "execution_count": 39,
   "metadata": {},
   "outputs": [
    {
     "name": "stdout",
     "output_type": "stream",
     "text": [
      "{\r\n",
      "    \"ContentType\": \"application/json\",\r\n",
      "    \"InvokedProductionVariant\": \"AllTraffic\"\r\n",
      "}\r\n"
     ]
    }
   ],
   "source": [
    "!aws sagemaker-runtime invoke-endpoint \\\n",
    "    --endpoint-name 'ar-classification-model-v10'\\\n",
    "    --body fileb://$file_name \\\n",
    "    --content-type 'application/zip' \\\n",
    "    --region us-east-2 \\\n",
    "    output3.json"
   ]
  },
  {
   "cell_type": "markdown",
   "metadata": {},
   "source": [
    "<Add code snippet that shows the payload contents>"
   ]
  },
  {
   "cell_type": "markdown",
   "metadata": {},
   "source": [
    "#### C. Perform real-time inference"
   ]
  },
  {
   "cell_type": "markdown",
   "metadata": {},
   "source": [
    "#### D. Visualize output"
   ]
  },
  {
   "cell_type": "code",
   "execution_count": 40,
   "metadata": {},
   "outputs": [
    {
     "name": "stdout",
     "output_type": "stream",
     "text": [
      "Output: \n",
      "{'cash_flow': [28, 29], 'profit_loss': [60, 65, 59], 'balance_sheet': [24, 23, 71, 75]}\n"
     ]
    }
   ],
   "source": [
    "import json\n",
    "with open('output3.json') as f:\n",
    "    data = json.load(f)\n",
    "\n",
    "print(\"Output: \")\n",
    "\n",
    "print(data)"
   ]
  },
  {
   "cell_type": "markdown",
   "metadata": {},
   "source": [
    "#### E. Delete the endpoint"
   ]
  },
  {
   "cell_type": "markdown",
   "metadata": {},
   "source": [
    "Now that you have successfully performed a real-time inference, you do not need the endpoint any more. You can terminate the endpoint to avoid being charged."
   ]
  },
  {
   "cell_type": "code",
   "execution_count": 41,
   "metadata": {},
   "outputs": [],
   "source": [
    "predictor.delete_endpoint()"
   ]
  },
  {
   "cell_type": "markdown",
   "metadata": {},
   "source": [
    "### 3. Perform batch inference"
   ]
  },
  {
   "cell_type": "markdown",
   "metadata": {},
   "source": [
    "In this section, you will perform batch inference using multiple input payloads together. If you are not familiar with batch transform, and want to learn more, see these links:\n",
    "1. [How it works](https://docs.aws.amazon.com/sagemaker/latest/dg/ex1-batch-transform.html)\n",
    "2. [How to run a batch transform job](https://docs.aws.amazon.com/sagemaker/latest/dg/how-it-works-batch.html)"
   ]
  },
  {
   "cell_type": "code",
   "execution_count": null,
   "metadata": {},
   "outputs": [
    {
     "name": "stdout",
     "output_type": "stream",
     "text": [
      "..................\u001b[34m * Serving Flask app 'serve' (lazy loading)\n",
      " * Environment: production\n",
      "   WARNING: This is a development server. Do not use it in a production deployment.\n",
      "   Use a production WSGI server instead.\n",
      " * Debug mode: on\n",
      " * Running on all addresses.\n",
      "   WARNING: This is a development server. Do not use it in a production deployment.\n",
      " * Running on http://169.254.255.131:8080/ (Press CTRL+C to quit)\n",
      " * Restarting with stat\n",
      " * Debugger is active!\n",
      " * Debugger PIN: 866-763-453\u001b[0m\n",
      "\u001b[34m169.254.255.130 - - [15/Nov/2021 14:39:27] \"GET /ping HTTP/1.1\" 200 -\u001b[0m\n",
      "\u001b[34m169.254.255.130 - - [15/Nov/2021 14:39:27] \"#033[33mGET /execution-parameters HTTP/1.1#033[0m\" 404 -\u001b[0m\n",
      "\u001b[34m/opt/program/image_module/Input/mphasis-annual-report-2021.pdf\u001b[0m\n",
      "\u001b[34m2021-11-15 14:39:28,133 [Thread-4    ] [WARNI]  Failed to see startup log message; retrying...\u001b[0m\n",
      "\u001b[32m2021-11-15T14:39:27.266:[sagemaker logs]: MaxConcurrentTransforms=1, MaxPayloadInMB=6, BatchStrategy=MULTI_RECORD\u001b[0m\n",
      "\u001b[34mRead page 28...\u001b[0m\n",
      "\u001b[35mRead page 28...\u001b[0m\n",
      "\u001b[34mRead page 29...\u001b[0m\n",
      "\u001b[35mRead page 29...\u001b[0m\n",
      "\u001b[34mRead page 25...\u001b[0m\n",
      "\u001b[35mRead page 25...\u001b[0m\n",
      "\u001b[34mRead page 60...\u001b[0m\n",
      "\u001b[35mRead page 60...\u001b[0m\n",
      "\u001b[34mRead page 65...\u001b[0m\n",
      "\u001b[35mRead page 65...\u001b[0m\n",
      "\u001b[34mRead page 59...\u001b[0m\n",
      "\u001b[35mRead page 59...\u001b[0m\n",
      "\u001b[34mRead page 64...\u001b[0m\n",
      "\u001b[35mRead page 64...\u001b[0m\n",
      "\u001b[34mRead page 24...\u001b[0m\n",
      "\u001b[34mRead page 23...\u001b[0m\n",
      "\u001b[35mRead page 24...\u001b[0m\n",
      "\u001b[35mRead page 23...\u001b[0m\n",
      "\u001b[34mRead page 71...\u001b[0m\n",
      "\u001b[35mRead page 71...\u001b[0m\n",
      "\u001b[34mRead page 75...\u001b[0m\n",
      "\u001b[34mTime taken: 10 seconds\u001b[0m\n",
      "\u001b[34m169.254.255.130 - - [15/Nov/2021 14:40:02] \"POST /invocations HTTP/1.1\" 200 -\u001b[0m\n",
      "\u001b[35mRead page 75...\u001b[0m\n",
      "\u001b[35mTime taken: 10 seconds\u001b[0m\n",
      "\u001b[35m169.254.255.130 - - [15/Nov/2021 14:40:02] \"POST /invocations HTTP/1.1\" 200 -\u001b[0m\n",
      "\n",
      "\u001b[34m * Serving Flask app 'serve' (lazy loading)\n",
      " * Environment: production\n",
      "   WARNING: This is a development server. Do not use it in a production deployment.\n",
      "   Use a production WSGI server instead.\n",
      " * Debug mode: on\n",
      " * Running on all addresses.\n",
      "   WARNING: This is a development server. Do not use it in a production deployment.\n",
      " * Running on http://169.254.255.131:8080/ (Press CTRL+C to quit)\n",
      " * Restarting with stat\n",
      " * Debugger is active!\n",
      " * Debugger PIN: 866-763-453\u001b[0m\n",
      "\u001b[35m * Serving Flask app 'serve' (lazy loading)\n",
      " * Environment: production\n",
      "   WARNING: This is a development server. Do not use it in a production deployment.\n",
      "   Use a production WSGI server instead.\n",
      " * Debug mode: on\n",
      " * Running on all addresses.\n",
      "   WARNING: This is a development server. Do not use it in a production deployment.\n",
      " * Running on http://169.254.255.131:8080/ (Press CTRL+C to quit)\n",
      " * Restarting with stat\n",
      " * Debugger is active!\n",
      " * Debugger PIN: 866-763-453\u001b[0m\n",
      "\u001b[34m169.254.255.130 - - [15/Nov/2021 14:39:27] \"GET /ping HTTP/1.1\" 200 -\u001b[0m\n",
      "\u001b[34m169.254.255.130 - - [15/Nov/2021 14:39:27] \"#033[33mGET /execution-parameters HTTP/1.1#033[0m\" 404 -\u001b[0m\n",
      "\u001b[35m169.254.255.130 - - [15/Nov/2021 14:39:27] \"GET /ping HTTP/1.1\" 200 -\u001b[0m\n",
      "\u001b[35m169.254.255.130 - - [15/Nov/2021 14:39:27] \"#033[33mGET /execution-parameters HTTP/1.1#033[0m\" 404 -\u001b[0m\n",
      "\u001b[34m/opt/program/image_module/Input/mphasis-annual-report-2021.pdf\u001b[0m\n",
      "\u001b[34m2021-11-15 14:39:28,133 [Thread-4    ] [WARNI]  Failed to see startup log message; retrying...\u001b[0m\n",
      "\u001b[35m/opt/program/image_module/Input/mphasis-annual-report-2021.pdf\u001b[0m\n",
      "\u001b[35m2021-11-15 14:39:28,133 [Thread-4    ] [WARNI]  Failed to see startup log message; retrying...\u001b[0m\n",
      "\u001b[32m2021-11-15T14:39:27.266:[sagemaker logs]: MaxConcurrentTransforms=1, MaxPayloadInMB=6, BatchStrategy=MULTI_RECORD\u001b[0m\n",
      "\u001b[34mRead page 28...\u001b[0m\n",
      "\u001b[35mRead page 28...\u001b[0m\n",
      "\u001b[34mRead page 29...\u001b[0m\n",
      "\u001b[35mRead page 29...\u001b[0m\n",
      "\u001b[34mRead page 25...\u001b[0m\n",
      "\u001b[35mRead page 25...\u001b[0m\n",
      "\u001b[34mRead page 60...\u001b[0m\n",
      "\u001b[35mRead page 60...\u001b[0m\n",
      "\u001b[34mRead page 65...\u001b[0m\n",
      "\u001b[35mRead page 65...\u001b[0m\n",
      "\u001b[34mRead page 59...\u001b[0m\n",
      "\u001b[35mRead page 59...\u001b[0m\n",
      "\u001b[34mRead page 64...\u001b[0m\n",
      "\u001b[35mRead page 64...\u001b[0m\n",
      "\u001b[34mRead page 24...\u001b[0m\n",
      "\u001b[34mRead page 23...\u001b[0m\n",
      "\u001b[35mRead page 24...\u001b[0m\n",
      "\u001b[35mRead page 23...\u001b[0m\n",
      "\u001b[34mRead page 71...\u001b[0m\n",
      "\u001b[35mRead page 71...\u001b[0m\n",
      "\u001b[34mRead page 75...\u001b[0m\n",
      "\u001b[34mTime taken: 10 seconds\u001b[0m\n",
      "\u001b[34m169.254.255.130 - - [15/Nov/2021 14:40:02] \"POST /invocations HTTP/1.1\" 200 -\u001b[0m\n",
      "\u001b[35mRead page 75...\u001b[0m\n",
      "\u001b[35mTime taken: 10 seconds\u001b[0m\n",
      "\u001b[35m169.254.255.130 - - [15/Nov/2021 14:40:02] \"POST /invocations HTTP/1.1\" 200 -\u001b[0m\n",
      "Batch Transform complete\n"
     ]
    }
   ],
   "source": [
    "import json \n",
    "import uuid\n",
    "\n",
    "\n",
    "transformer = model.transformer(1, 'ml.m5.xlarge')\n",
    "transformer.transform(\"s3://mphasis-marketplace/financial_table_classification/input/Input.zip\", content_type='application/zip')\n",
    "transformer.wait()\n",
    "#transformer.output_path\n",
    "print(\"Batch Transform complete\")\n",
    "bucketFolder = transformer.output_path.rsplit('/')[3]"
   ]
  },
  {
   "cell_type": "code",
   "execution_count": 43,
   "metadata": {},
   "outputs": [
    {
     "name": "stdout",
     "output_type": "stream",
     "text": [
      "Output file loaded from bucket\n"
     ]
    }
   ],
   "source": [
    "#print(s3bucket,s3prefix)\n",
    "s3_conn = boto3.client(\"s3\")\n",
    "bucket_name=\"sagemaker-us-east-2-786796469737\"\n",
    "with open('output.json', 'wb') as f:\n",
    "    s3_conn.download_fileobj(bucket_name, bucketFolder+'/Input.zip.out', f)\n",
    "    print(\"Output file loaded from bucket\")"
   ]
  },
  {
   "cell_type": "markdown",
   "metadata": {},
   "source": [
    "## Outpt will be inside a zip file"
   ]
  },
  {
   "cell_type": "code",
   "execution_count": 44,
   "metadata": {},
   "outputs": [
    {
     "name": "stdout",
     "output_type": "stream",
     "text": [
      "Output: \n",
      "{'cash_flow': [28, 29], 'profit_loss': [60, 65, 59], 'balance_sheet': [24, 23, 71, 75]}\n"
     ]
    }
   ],
   "source": [
    "import json\n",
    "with open('output.json') as f:\n",
    "    data = json.load(f)\n",
    "\n",
    "print(\"Output: \")\n",
    "\n",
    "print(data)"
   ]
  },
  {
   "cell_type": "markdown",
   "metadata": {},
   "source": [
    "### 4. Clean-up"
   ]
  },
  {
   "cell_type": "markdown",
   "metadata": {},
   "source": [
    "#### A. Delete the model"
   ]
  },
  {
   "cell_type": "markdown",
   "metadata": {},
   "source": [
    "delete the endpoint after you have used it to save resources.\n"
   ]
  },
  {
   "cell_type": "markdown",
   "metadata": {},
   "source": [
    "#### B. Unsubscribe to the listing (optional)"
   ]
  },
  {
   "cell_type": "markdown",
   "metadata": {},
   "source": [
    "If you would like to unsubscribe to the model package, follow these steps. Before you cancel the subscription, ensure that you do not have any [deployable model](https://console.aws.amazon.com/sagemaker/home#/models) created from the model package or using the algorithm. Note - You can find this information by looking at the container name associated with the model. \n",
    "\n",
    "**Steps to unsubscribe to product from AWS Marketplace**:\n",
    "1. Navigate to __Machine Learning__ tab on [__Your Software subscriptions page__](https://aws.amazon.com/marketplace/ai/library?productType=ml&ref_=mlmp_gitdemo_indust)\n",
    "2. Locate the listing that you want to cancel the subscription for, and then choose __Cancel Subscription__  to cancel the subscription.\n",
    "\n"
   ]
  },
  {
   "cell_type": "code",
   "execution_count": 45,
   "metadata": {},
   "outputs": [],
   "source": [
    "model.delete_model()"
   ]
  },
  {
   "cell_type": "code",
   "execution_count": null,
   "metadata": {},
   "outputs": [],
   "source": []
  }
 ],
 "metadata": {
  "kernelspec": {
   "display_name": "conda_python3",
   "language": "python",
   "name": "conda_python3"
  },
  "language_info": {
   "codemirror_mode": {
    "name": "ipython",
    "version": 3
   },
   "file_extension": ".py",
   "mimetype": "text/x-python",
   "name": "python",
   "nbconvert_exporter": "python",
   "pygments_lexer": "ipython3",
   "version": "3.6.13"
  }
 },
 "nbformat": 4,
 "nbformat_minor": 2
}
